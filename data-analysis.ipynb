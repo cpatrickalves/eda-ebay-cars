{
 "cells": [
  {
   "cell_type": "markdown",
   "metadata": {},
   "source": [
    "# Exploratory Data Analysis of used cars from eBay Kleinanzeigen\n",
    "\n",
    "This notebook shows an exploratory data analysis of a database provided by [Kaggle](https://www.kaggle.com/]).\n",
    "\n",
    "The dataset contains over 370,000 used cars scraped from eBay Kleinanzeigen\n",
    "\n",
    "The dataset can be downloaded from https://www.kaggle.com/orgesleka/used-cars-database\n",
    "\n",
    "The analysis will be driven by several questions, that will be answered through tables or graphs."
   ]
  },
  {
   "cell_type": "markdown",
   "metadata": {},
   "source": [
    "### 1) ???"
   ]
  },
  {
   "cell_type": "code",
   "execution_count": null,
   "metadata": {},
   "outputs": [],
   "source": []
  }
 ],
 "metadata": {
  "kernelspec": {
   "display_name": "Python 3",
   "language": "python",
   "name": "python3"
  },
  "language_info": {
   "codemirror_mode": {
    "name": "ipython",
    "version": 3
   },
   "file_extension": ".py",
   "mimetype": "text/x-python",
   "name": "python",
   "nbconvert_exporter": "python",
   "pygments_lexer": "ipython3",
   "version": "3.6.5"
  }
 },
 "nbformat": 4,
 "nbformat_minor": 2
}
